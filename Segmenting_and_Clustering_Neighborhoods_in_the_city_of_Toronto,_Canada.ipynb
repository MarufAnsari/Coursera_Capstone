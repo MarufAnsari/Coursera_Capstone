{
  "nbformat": 4,
  "nbformat_minor": 0,
  "metadata": {
    "colab": {
      "name": "Segmenting and Clustering Neighborhoods in the city of Toronto, Canada.ipynb",
      "provenance": [],
      "collapsed_sections": [],
      "authorship_tag": "ABX9TyO9EtgA9CpYAOHeVVqknpGT",
      "include_colab_link": true
    },
    "kernelspec": {
      "name": "python3",
      "display_name": "Python 3"
    }
  },
  "cells": [
    {
      "cell_type": "markdown",
      "metadata": {
        "id": "view-in-github",
        "colab_type": "text"
      },
      "source": [
        "<a href=\"https://colab.research.google.com/github/MarufAnsari/Coursera_Capstone/blob/master/Segmenting_and_Clustering_Neighborhoods_in_the_city_of_Toronto%2C_Canada.ipynb\" target=\"_parent\"><img src=\"https://colab.research.google.com/assets/colab-badge.svg\" alt=\"Open In Colab\"/></a>"
      ]
    },
    {
      "cell_type": "markdown",
      "metadata": {
        "id": "D7AhllqzWzHP",
        "colab_type": "text"
      },
      "source": [
        ""
      ]
    },
    {
      "cell_type": "markdown",
      "metadata": {
        "id": "caOeZJ5lW2eX",
        "colab_type": "text"
      },
      "source": [
        "# **Segmenting and Clustering Neighborhoods in the city of Toronto, Canada**"
      ]
    },
    {
      "cell_type": "markdown",
      "metadata": {
        "id": "XFqbBAAUXJFL",
        "colab_type": "text"
      },
      "source": [
        "**1. Importing Libraries**"
      ]
    },
    {
      "cell_type": "code",
      "metadata": {
        "id": "Jn2ivcniXRM_",
        "colab_type": "code",
        "colab": {
          "base_uri": "https://localhost:8080/",
          "height": 34
        },
        "outputId": "c87e893f-cb13-4074-80fa-fd05f88f3dfd"
      },
      "source": [
        "import numpy as np                # library to handle data in a vectorized manner\n",
        "import pandas as pd               # library for data analsysis\n",
        "import requests                   # library to handle requests\n",
        "from bs4 import BeautifulSoup     # library to parse HTML and XML documents\n",
        "\n",
        "pd.set_option(\"display.max_columns\", None)\n",
        "pd.set_option(\"display.max_rows\", None)\n",
        "\n",
        "import json                                   # library to handle JSON files\n",
        "from geopy.geocoders import Nominatim         # convert an address into latitude and longitude values\n",
        "from pandas.io.json import json_normalize     # tranform JSON file into a pandas dataframe\n",
        "\n",
        "# Matplotlib and associated plotting modules\n",
        "import matplotlib.cm as cm\n",
        "import matplotlib.colors as colors\n",
        "\n",
        "# import k-means from clustering stage\n",
        "from sklearn.cluster import KMeans\n",
        "\n",
        "# map rendering library\n",
        "import folium \n",
        "\n",
        "print('Libraries imported.')"
      ],
      "execution_count": 23,
      "outputs": [
        {
          "output_type": "stream",
          "text": [
            "Libraries imported.\n"
          ],
          "name": "stdout"
        }
      ]
    },
    {
      "cell_type": "markdown",
      "metadata": {
        "id": "KPZuCpMwb0wI",
        "colab_type": "text"
      },
      "source": [
        "**2. Scrap data from Wikipedia page into a DataFrame**\n",
        "\n",
        "Get the HTML page of Wikipedia showing the data of Toronto city.\n",
        "\n",
        "We will use read_html function here in order to convert the html data into list of Dataframe objects.\n",
        "\n",
        "We will remove the rows with not assigned boroughs"
      ]
    },
    {
      "cell_type": "code",
      "metadata": {
        "id": "GBRdyd6scqIp",
        "colab_type": "code",
        "colab": {
          "base_uri": "https://localhost:8080/",
          "height": 204
        },
        "outputId": "42737ff1-d347-43bc-dc79-c710a8db2657"
      },
      "source": [
        "# requesting to get the html page from the URL/Link\n",
        "wiki_page = requests.get('https://en.wikipedia.org/wiki/List_of_postal_codes_of_Canada:_M').text\n",
        "\n",
        "\n",
        "# parse data from the html into a beautifulsoup object\n",
        "soup = BeautifulSoup(wiki_page, 'html.parser') \n",
        "\n",
        "#Lists to store the table data\n",
        "PostalCode_ = []\n",
        "Borough_ = []\n",
        "Neighborhood_ = []\n",
        "\n",
        "#appending data into lists\n",
        "for row in soup.find('table').find_all('tr') :\n",
        "  cells = row.find_all('td')\n",
        "  if(len(cells)>0) :\n",
        "    PostalCode_.append(cells[0].text.rstrip('\\n'))\n",
        "    Borough_.append(cells[1].text.rstrip('\\n'))\n",
        "    Neighborhood_.append(cells[2].text.rstrip('\\n'))\n",
        "\n",
        "#creating Dataframe by concatconcatenating the lists\n",
        "toronto_df = pd.DataFrame({\"PostalCode\":PostalCode_, \"Borough\":Borough_, \"Neighborhood\":Neighborhood_})\n",
        "\n",
        "toronto_df.head()"
      ],
      "execution_count": 30,
      "outputs": [
        {
          "output_type": "execute_result",
          "data": {
            "text/html": [
              "<div>\n",
              "<style scoped>\n",
              "    .dataframe tbody tr th:only-of-type {\n",
              "        vertical-align: middle;\n",
              "    }\n",
              "\n",
              "    .dataframe tbody tr th {\n",
              "        vertical-align: top;\n",
              "    }\n",
              "\n",
              "    .dataframe thead th {\n",
              "        text-align: right;\n",
              "    }\n",
              "</style>\n",
              "<table border=\"1\" class=\"dataframe\">\n",
              "  <thead>\n",
              "    <tr style=\"text-align: right;\">\n",
              "      <th></th>\n",
              "      <th>PostalCode</th>\n",
              "      <th>Borough</th>\n",
              "      <th>Neighborhood</th>\n",
              "    </tr>\n",
              "  </thead>\n",
              "  <tbody>\n",
              "    <tr>\n",
              "      <th>0</th>\n",
              "      <td>M1A</td>\n",
              "      <td>Not assigned</td>\n",
              "      <td>Not assigned</td>\n",
              "    </tr>\n",
              "    <tr>\n",
              "      <th>1</th>\n",
              "      <td>M2A</td>\n",
              "      <td>Not assigned</td>\n",
              "      <td>Not assigned</td>\n",
              "    </tr>\n",
              "    <tr>\n",
              "      <th>2</th>\n",
              "      <td>M3A</td>\n",
              "      <td>North York</td>\n",
              "      <td>Parkwoods</td>\n",
              "    </tr>\n",
              "    <tr>\n",
              "      <th>3</th>\n",
              "      <td>M4A</td>\n",
              "      <td>North York</td>\n",
              "      <td>Victoria Village</td>\n",
              "    </tr>\n",
              "    <tr>\n",
              "      <th>4</th>\n",
              "      <td>M5A</td>\n",
              "      <td>Downtown Toronto</td>\n",
              "      <td>Regent Park, Harbourfront</td>\n",
              "    </tr>\n",
              "  </tbody>\n",
              "</table>\n",
              "</div>"
            ],
            "text/plain": [
              "  PostalCode           Borough               Neighborhood\n",
              "0        M1A      Not assigned               Not assigned\n",
              "1        M2A      Not assigned               Not assigned\n",
              "2        M3A        North York                  Parkwoods\n",
              "3        M4A        North York           Victoria Village\n",
              "4        M5A  Downtown Toronto  Regent Park, Harbourfront"
            ]
          },
          "metadata": {
            "tags": []
          },
          "execution_count": 30
        }
      ]
    },
    {
      "cell_type": "markdown",
      "metadata": {
        "id": "NSUo_Kmto3EJ",
        "colab_type": "text"
      },
      "source": [
        "**3. Dropping the cells with a borough that is \"Not assigned\"**\n",
        "\n"
      ]
    },
    {
      "cell_type": "code",
      "metadata": {
        "id": "iXIhP0hIpGen",
        "colab_type": "code",
        "colab": {
          "base_uri": "https://localhost:8080/",
          "height": 204
        },
        "outputId": "7fa4932d-6592-4e1d-94b0-c2f0097e5433"
      },
      "source": [
        "# dropping \"Not assigned\" borough\n",
        "toronto_df['Borough'].replace('Not assigned', np.nan, inplace=True)\n",
        "toronto_df.dropna(subset=['Borough'], inplace=True)\n",
        "toronto_df.head()"
      ],
      "execution_count": 33,
      "outputs": [
        {
          "output_type": "execute_result",
          "data": {
            "text/html": [
              "<div>\n",
              "<style scoped>\n",
              "    .dataframe tbody tr th:only-of-type {\n",
              "        vertical-align: middle;\n",
              "    }\n",
              "\n",
              "    .dataframe tbody tr th {\n",
              "        vertical-align: top;\n",
              "    }\n",
              "\n",
              "    .dataframe thead th {\n",
              "        text-align: right;\n",
              "    }\n",
              "</style>\n",
              "<table border=\"1\" class=\"dataframe\">\n",
              "  <thead>\n",
              "    <tr style=\"text-align: right;\">\n",
              "      <th></th>\n",
              "      <th>PostalCode</th>\n",
              "      <th>Borough</th>\n",
              "      <th>Neighborhood</th>\n",
              "    </tr>\n",
              "  </thead>\n",
              "  <tbody>\n",
              "    <tr>\n",
              "      <th>2</th>\n",
              "      <td>M3A</td>\n",
              "      <td>North York</td>\n",
              "      <td>Parkwoods</td>\n",
              "    </tr>\n",
              "    <tr>\n",
              "      <th>3</th>\n",
              "      <td>M4A</td>\n",
              "      <td>North York</td>\n",
              "      <td>Victoria Village</td>\n",
              "    </tr>\n",
              "    <tr>\n",
              "      <th>4</th>\n",
              "      <td>M5A</td>\n",
              "      <td>Downtown Toronto</td>\n",
              "      <td>Regent Park, Harbourfront</td>\n",
              "    </tr>\n",
              "    <tr>\n",
              "      <th>5</th>\n",
              "      <td>M6A</td>\n",
              "      <td>North York</td>\n",
              "      <td>Lawrence Manor, Lawrence Heights</td>\n",
              "    </tr>\n",
              "    <tr>\n",
              "      <th>6</th>\n",
              "      <td>M7A</td>\n",
              "      <td>Downtown Toronto</td>\n",
              "      <td>Queen's Park, Ontario Provincial Government</td>\n",
              "    </tr>\n",
              "  </tbody>\n",
              "</table>\n",
              "</div>"
            ],
            "text/plain": [
              "  PostalCode           Borough                                 Neighborhood\n",
              "2        M3A        North York                                    Parkwoods\n",
              "3        M4A        North York                             Victoria Village\n",
              "4        M5A  Downtown Toronto                    Regent Park, Harbourfront\n",
              "5        M6A        North York             Lawrence Manor, Lawrence Heights\n",
              "6        M7A  Downtown Toronto  Queen's Park, Ontario Provincial Government"
            ]
          },
          "metadata": {
            "tags": []
          },
          "execution_count": 33
        }
      ]
    },
    {
      "cell_type": "markdown",
      "metadata": {
        "id": "ZMcG-eJQqpAY",
        "colab_type": "text"
      },
      "source": [
        "**4. Group Neighborhoods in the same borough**"
      ]
    },
    {
      "cell_type": "code",
      "metadata": {
        "id": "ZCJc2aIqrXiC",
        "colab_type": "code",
        "colab": {
          "base_uri": "https://localhost:8080/",
          "height": 359
        },
        "outputId": "843399fd-9afd-4f13-b292-7cd7874604cd"
      },
      "source": [
        "# Grouping by Borough and Postaal-Code\n",
        "toronto_df_grp = toronto_df.groupby(['PostalCode','Borough'], as_index=False).agg(lambda x: ','.join(x))\n",
        "toronto_df_grp.head(10)"
      ],
      "execution_count": 43,
      "outputs": [
        {
          "output_type": "execute_result",
          "data": {
            "text/html": [
              "<div>\n",
              "<style scoped>\n",
              "    .dataframe tbody tr th:only-of-type {\n",
              "        vertical-align: middle;\n",
              "    }\n",
              "\n",
              "    .dataframe tbody tr th {\n",
              "        vertical-align: top;\n",
              "    }\n",
              "\n",
              "    .dataframe thead th {\n",
              "        text-align: right;\n",
              "    }\n",
              "</style>\n",
              "<table border=\"1\" class=\"dataframe\">\n",
              "  <thead>\n",
              "    <tr style=\"text-align: right;\">\n",
              "      <th></th>\n",
              "      <th>PostalCode</th>\n",
              "      <th>Borough</th>\n",
              "      <th>Neighborhood</th>\n",
              "    </tr>\n",
              "  </thead>\n",
              "  <tbody>\n",
              "    <tr>\n",
              "      <th>0</th>\n",
              "      <td>M1B</td>\n",
              "      <td>Scarborough</td>\n",
              "      <td>Malvern, Rouge</td>\n",
              "    </tr>\n",
              "    <tr>\n",
              "      <th>1</th>\n",
              "      <td>M1C</td>\n",
              "      <td>Scarborough</td>\n",
              "      <td>Rouge Hill, Port Union, Highland Creek</td>\n",
              "    </tr>\n",
              "    <tr>\n",
              "      <th>2</th>\n",
              "      <td>M1E</td>\n",
              "      <td>Scarborough</td>\n",
              "      <td>Guildwood, Morningside, West Hill</td>\n",
              "    </tr>\n",
              "    <tr>\n",
              "      <th>3</th>\n",
              "      <td>M1G</td>\n",
              "      <td>Scarborough</td>\n",
              "      <td>Woburn</td>\n",
              "    </tr>\n",
              "    <tr>\n",
              "      <th>4</th>\n",
              "      <td>M1H</td>\n",
              "      <td>Scarborough</td>\n",
              "      <td>Cedarbrae</td>\n",
              "    </tr>\n",
              "    <tr>\n",
              "      <th>5</th>\n",
              "      <td>M1J</td>\n",
              "      <td>Scarborough</td>\n",
              "      <td>Scarborough Village</td>\n",
              "    </tr>\n",
              "    <tr>\n",
              "      <th>6</th>\n",
              "      <td>M1K</td>\n",
              "      <td>Scarborough</td>\n",
              "      <td>Kennedy Park, Ionview, East Birchmount Park</td>\n",
              "    </tr>\n",
              "    <tr>\n",
              "      <th>7</th>\n",
              "      <td>M1L</td>\n",
              "      <td>Scarborough</td>\n",
              "      <td>Golden Mile, Clairlea, Oakridge</td>\n",
              "    </tr>\n",
              "    <tr>\n",
              "      <th>8</th>\n",
              "      <td>M1M</td>\n",
              "      <td>Scarborough</td>\n",
              "      <td>Cliffside, Cliffcrest, Scarborough Village West</td>\n",
              "    </tr>\n",
              "    <tr>\n",
              "      <th>9</th>\n",
              "      <td>M1N</td>\n",
              "      <td>Scarborough</td>\n",
              "      <td>Birch Cliff, Cliffside West</td>\n",
              "    </tr>\n",
              "  </tbody>\n",
              "</table>\n",
              "</div>"
            ],
            "text/plain": [
              "  PostalCode      Borough                                     Neighborhood\n",
              "0        M1B  Scarborough                                   Malvern, Rouge\n",
              "1        M1C  Scarborough           Rouge Hill, Port Union, Highland Creek\n",
              "2        M1E  Scarborough                Guildwood, Morningside, West Hill\n",
              "3        M1G  Scarborough                                           Woburn\n",
              "4        M1H  Scarborough                                        Cedarbrae\n",
              "5        M1J  Scarborough                              Scarborough Village\n",
              "6        M1K  Scarborough      Kennedy Park, Ionview, East Birchmount Park\n",
              "7        M1L  Scarborough                  Golden Mile, Clairlea, Oakridge\n",
              "8        M1M  Scarborough  Cliffside, Cliffcrest, Scarborough Village West\n",
              "9        M1N  Scarborough                      Birch Cliff, Cliffside West"
            ]
          },
          "metadata": {
            "tags": []
          },
          "execution_count": 43
        }
      ]
    },
    {
      "cell_type": "markdown",
      "metadata": {
        "id": "nfzb2RlvshJ1",
        "colab_type": "text"
      },
      "source": [
        "**5. \"Not assigned\" Neighborhood is replaced with respective borough name**"
      ]
    },
    {
      "cell_type": "code",
      "metadata": {
        "id": "mryLbty8s3Xf",
        "colab_type": "code",
        "colab": {
          "base_uri": "https://localhost:8080/",
          "height": 359
        },
        "outputId": "0014777c-3464-49e0-f3f6-29c8b0eda0c0"
      },
      "source": [
        "# replacing \"Not assigned\" Neighborhood\n",
        "for index, row in toronto_df_grp.iterrows() :\n",
        "  if row['Neighborhood'] == 'Not assigned' :\n",
        "    row['Neighborhood'] = row['Borough']\n",
        "\n",
        "toronto_df_grp.head(10)"
      ],
      "execution_count": 44,
      "outputs": [
        {
          "output_type": "execute_result",
          "data": {
            "text/html": [
              "<div>\n",
              "<style scoped>\n",
              "    .dataframe tbody tr th:only-of-type {\n",
              "        vertical-align: middle;\n",
              "    }\n",
              "\n",
              "    .dataframe tbody tr th {\n",
              "        vertical-align: top;\n",
              "    }\n",
              "\n",
              "    .dataframe thead th {\n",
              "        text-align: right;\n",
              "    }\n",
              "</style>\n",
              "<table border=\"1\" class=\"dataframe\">\n",
              "  <thead>\n",
              "    <tr style=\"text-align: right;\">\n",
              "      <th></th>\n",
              "      <th>PostalCode</th>\n",
              "      <th>Borough</th>\n",
              "      <th>Neighborhood</th>\n",
              "    </tr>\n",
              "  </thead>\n",
              "  <tbody>\n",
              "    <tr>\n",
              "      <th>0</th>\n",
              "      <td>M1B</td>\n",
              "      <td>Scarborough</td>\n",
              "      <td>Malvern, Rouge</td>\n",
              "    </tr>\n",
              "    <tr>\n",
              "      <th>1</th>\n",
              "      <td>M1C</td>\n",
              "      <td>Scarborough</td>\n",
              "      <td>Rouge Hill, Port Union, Highland Creek</td>\n",
              "    </tr>\n",
              "    <tr>\n",
              "      <th>2</th>\n",
              "      <td>M1E</td>\n",
              "      <td>Scarborough</td>\n",
              "      <td>Guildwood, Morningside, West Hill</td>\n",
              "    </tr>\n",
              "    <tr>\n",
              "      <th>3</th>\n",
              "      <td>M1G</td>\n",
              "      <td>Scarborough</td>\n",
              "      <td>Woburn</td>\n",
              "    </tr>\n",
              "    <tr>\n",
              "      <th>4</th>\n",
              "      <td>M1H</td>\n",
              "      <td>Scarborough</td>\n",
              "      <td>Cedarbrae</td>\n",
              "    </tr>\n",
              "    <tr>\n",
              "      <th>5</th>\n",
              "      <td>M1J</td>\n",
              "      <td>Scarborough</td>\n",
              "      <td>Scarborough Village</td>\n",
              "    </tr>\n",
              "    <tr>\n",
              "      <th>6</th>\n",
              "      <td>M1K</td>\n",
              "      <td>Scarborough</td>\n",
              "      <td>Kennedy Park, Ionview, East Birchmount Park</td>\n",
              "    </tr>\n",
              "    <tr>\n",
              "      <th>7</th>\n",
              "      <td>M1L</td>\n",
              "      <td>Scarborough</td>\n",
              "      <td>Golden Mile, Clairlea, Oakridge</td>\n",
              "    </tr>\n",
              "    <tr>\n",
              "      <th>8</th>\n",
              "      <td>M1M</td>\n",
              "      <td>Scarborough</td>\n",
              "      <td>Cliffside, Cliffcrest, Scarborough Village West</td>\n",
              "    </tr>\n",
              "    <tr>\n",
              "      <th>9</th>\n",
              "      <td>M1N</td>\n",
              "      <td>Scarborough</td>\n",
              "      <td>Birch Cliff, Cliffside West</td>\n",
              "    </tr>\n",
              "  </tbody>\n",
              "</table>\n",
              "</div>"
            ],
            "text/plain": [
              "  PostalCode      Borough                                     Neighborhood\n",
              "0        M1B  Scarborough                                   Malvern, Rouge\n",
              "1        M1C  Scarborough           Rouge Hill, Port Union, Highland Creek\n",
              "2        M1E  Scarborough                Guildwood, Morningside, West Hill\n",
              "3        M1G  Scarborough                                           Woburn\n",
              "4        M1H  Scarborough                                        Cedarbrae\n",
              "5        M1J  Scarborough                              Scarborough Village\n",
              "6        M1K  Scarborough      Kennedy Park, Ionview, East Birchmount Park\n",
              "7        M1L  Scarborough                  Golden Mile, Clairlea, Oakridge\n",
              "8        M1M  Scarborough  Cliffside, Cliffcrest, Scarborough Village West\n",
              "9        M1N  Scarborough                      Birch Cliff, Cliffside West"
            ]
          },
          "metadata": {
            "tags": []
          },
          "execution_count": 44
        }
      ]
    },
    {
      "cell_type": "markdown",
      "metadata": {
        "id": "syM7rBJrv0uk",
        "colab_type": "text"
      },
      "source": [
        "**6. Matching the table with the question**"
      ]
    },
    {
      "cell_type": "code",
      "metadata": {
        "id": "tMtgfE3hvzug",
        "colab_type": "code",
        "colab": {
          "base_uri": "https://localhost:8080/",
          "height": 421
        },
        "outputId": "88d73535-9732-4817-931e-b6561da715df"
      },
      "source": [
        "column_names = [\"PostalCode\", \"Borough\", \"Neighborhood\"]\n",
        "test_df = pd.DataFrame(columns=column_names)\n",
        "\n",
        "postcode_list = [\"M5G\", \"M2H\", \"M4B\", \"M1J\", \"M4G\", \"M4M\", \"M1R\", \"M9V\", \"M9L\", \"M5V\", \"M1B\", \"M5A\"]\n",
        "\n",
        "for postcode in postcode_list:\n",
        "    test_df = test_df.append(toronto_df_grp[toronto_df_grp[\"PostalCode\"]==postcode], ignore_index=True)\n",
        "    \n",
        "test_df"
      ],
      "execution_count": 52,
      "outputs": [
        {
          "output_type": "execute_result",
          "data": {
            "text/html": [
              "<div>\n",
              "<style scoped>\n",
              "    .dataframe tbody tr th:only-of-type {\n",
              "        vertical-align: middle;\n",
              "    }\n",
              "\n",
              "    .dataframe tbody tr th {\n",
              "        vertical-align: top;\n",
              "    }\n",
              "\n",
              "    .dataframe thead th {\n",
              "        text-align: right;\n",
              "    }\n",
              "</style>\n",
              "<table border=\"1\" class=\"dataframe\">\n",
              "  <thead>\n",
              "    <tr style=\"text-align: right;\">\n",
              "      <th></th>\n",
              "      <th>PostalCode</th>\n",
              "      <th>Borough</th>\n",
              "      <th>Neighborhood</th>\n",
              "    </tr>\n",
              "  </thead>\n",
              "  <tbody>\n",
              "    <tr>\n",
              "      <th>0</th>\n",
              "      <td>M5G</td>\n",
              "      <td>Downtown Toronto</td>\n",
              "      <td>Central Bay Street</td>\n",
              "    </tr>\n",
              "    <tr>\n",
              "      <th>1</th>\n",
              "      <td>M2H</td>\n",
              "      <td>North York</td>\n",
              "      <td>Hillcrest Village</td>\n",
              "    </tr>\n",
              "    <tr>\n",
              "      <th>2</th>\n",
              "      <td>M4B</td>\n",
              "      <td>East York</td>\n",
              "      <td>Parkview Hill, Woodbine Gardens</td>\n",
              "    </tr>\n",
              "    <tr>\n",
              "      <th>3</th>\n",
              "      <td>M1J</td>\n",
              "      <td>Scarborough</td>\n",
              "      <td>Scarborough Village</td>\n",
              "    </tr>\n",
              "    <tr>\n",
              "      <th>4</th>\n",
              "      <td>M4G</td>\n",
              "      <td>East York</td>\n",
              "      <td>Leaside</td>\n",
              "    </tr>\n",
              "    <tr>\n",
              "      <th>5</th>\n",
              "      <td>M4M</td>\n",
              "      <td>East Toronto</td>\n",
              "      <td>Studio District</td>\n",
              "    </tr>\n",
              "    <tr>\n",
              "      <th>6</th>\n",
              "      <td>M1R</td>\n",
              "      <td>Scarborough</td>\n",
              "      <td>Wexford, Maryvale</td>\n",
              "    </tr>\n",
              "    <tr>\n",
              "      <th>7</th>\n",
              "      <td>M9V</td>\n",
              "      <td>Etobicoke</td>\n",
              "      <td>South Steeles, Silverstone, Humbergate, Jamest...</td>\n",
              "    </tr>\n",
              "    <tr>\n",
              "      <th>8</th>\n",
              "      <td>M9L</td>\n",
              "      <td>North York</td>\n",
              "      <td>Humber Summit</td>\n",
              "    </tr>\n",
              "    <tr>\n",
              "      <th>9</th>\n",
              "      <td>M5V</td>\n",
              "      <td>Downtown Toronto</td>\n",
              "      <td>CN Tower, King and Spadina, Railway Lands, Har...</td>\n",
              "    </tr>\n",
              "    <tr>\n",
              "      <th>10</th>\n",
              "      <td>M1B</td>\n",
              "      <td>Scarborough</td>\n",
              "      <td>Malvern, Rouge</td>\n",
              "    </tr>\n",
              "    <tr>\n",
              "      <th>11</th>\n",
              "      <td>M5A</td>\n",
              "      <td>Downtown Toronto</td>\n",
              "      <td>Regent Park, Harbourfront</td>\n",
              "    </tr>\n",
              "  </tbody>\n",
              "</table>\n",
              "</div>"
            ],
            "text/plain": [
              "   PostalCode           Borough  \\\n",
              "0         M5G  Downtown Toronto   \n",
              "1         M2H        North York   \n",
              "2         M4B         East York   \n",
              "3         M1J       Scarborough   \n",
              "4         M4G         East York   \n",
              "5         M4M      East Toronto   \n",
              "6         M1R       Scarborough   \n",
              "7         M9V         Etobicoke   \n",
              "8         M9L        North York   \n",
              "9         M5V  Downtown Toronto   \n",
              "10        M1B       Scarborough   \n",
              "11        M5A  Downtown Toronto   \n",
              "\n",
              "                                         Neighborhood  \n",
              "0                                  Central Bay Street  \n",
              "1                                   Hillcrest Village  \n",
              "2                     Parkview Hill, Woodbine Gardens  \n",
              "3                                 Scarborough Village  \n",
              "4                                             Leaside  \n",
              "5                                     Studio District  \n",
              "6                                   Wexford, Maryvale  \n",
              "7   South Steeles, Silverstone, Humbergate, Jamest...  \n",
              "8                                       Humber Summit  \n",
              "9   CN Tower, King and Spadina, Railway Lands, Har...  \n",
              "10                                     Malvern, Rouge  \n",
              "11                          Regent Park, Harbourfront  "
            ]
          },
          "metadata": {
            "tags": []
          },
          "execution_count": 52
        }
      ]
    },
    {
      "cell_type": "code",
      "metadata": {
        "id": "m9W6oLZIufZp",
        "colab_type": "code",
        "colab": {
          "base_uri": "https://localhost:8080/",
          "height": 34
        },
        "outputId": "e51aac4b-b08b-4f1e-fb28-1bec1b725301"
      },
      "source": [
        "toronto_df_grp.shape"
      ],
      "execution_count": 46,
      "outputs": [
        {
          "output_type": "execute_result",
          "data": {
            "text/plain": [
              "(103, 3)"
            ]
          },
          "metadata": {
            "tags": []
          },
          "execution_count": 46
        }
      ]
    }
  ]
}